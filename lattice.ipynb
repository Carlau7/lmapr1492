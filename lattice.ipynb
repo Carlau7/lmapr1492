{
 "cells": [
  {
   "cell_type": "code",
   "execution_count": 73,
   "id": "5d3cd97d",
   "metadata": {},
   "outputs": [],
   "source": [
    "from pymatgen import Structure\n",
    "from pymatgen.symmetry.analyzer import SpacegroupAnalyzer\n",
    "from jupyter_jsmol.pymatgen import quick_view\n",
    "from pymatgen.io.vasp import Poscar\n",
    "from pymatgen.io.cif import CifWriter\n",
    "from pymatgen.ext.matproj import MPRester\n",
    "from IPython.display import display, Math \n",
    "import numpy as np"
   ]
  },
  {
   "cell_type": "code",
   "execution_count": 74,
   "id": "df6c42e9",
   "metadata": {},
   "outputs": [],
   "source": [
    "#téléchargement du matériau\n",
    "\n",
    "with MPRester(\"1dFKRUfD65SqW4BO\") as m: \n",
    "    # Structure for material id\n",
    "    structure = m.get_structure_by_material_id(\"mp-862631\")\n",
    "w = CifWriter(structure,symprec=0.1)\n",
    "w.write_file('mp-862631.cif')"
   ]
  },
  {
   "cell_type": "code",
   "execution_count": 92,
   "id": "cd971d43",
   "metadata": {},
   "outputs": [],
   "source": [
    "def impureté(n,ref=1e-14) : #pour mettre à 0 des petites impuretés\n",
    "    if  abs(n) < ref :\n",
    "        return 0.0\n",
    "    else:\n",
    "        return n\n",
    "\n",
    "imp = np.vectorize(impureté) \n",
    "\n",
    "def typemaille(P): #convertir le symbole sur le groupe d'espace en le type de maille représenté\n",
    "    if P==\"P\":\n",
    "        return \"Primitive\"\n",
    "    elif P==\"I\":\n",
    "        return \"Centrée\"\n",
    "    elif P==\"F\":\n",
    "        return \"Faces centrées\"\n",
    "    elif P==\"A\":\n",
    "        return \"Bases A centrées\"\n",
    "    elif P==\"B\":\n",
    "        return \"Bases B centrées\"\n",
    "    elif P==\"C\":\n",
    "        return \"Bases C centrées\"\n",
    "    elif P==\"R\":\n",
    "        return \"Rhomboédrique\""
   ]
  },
  {
   "cell_type": "code",
   "execution_count": 93,
   "id": "277480ef",
   "metadata": {},
   "outputs": [
    {
     "name": "stdout",
     "output_type": "stream",
     "text": [
      "Vecteurs de bases du réseau direct:\n"
     ]
    },
    {
     "data": {
      "text/latex": [
       "$\\displaystyle \\overrightarrow{{a}} = (8.325192 ; 0.0 ; 0.0)$"
      ],
      "text/plain": [
       "<IPython.core.display.Math object>"
      ]
     },
     "metadata": {},
     "output_type": "display_data"
    },
    {
     "data": {
      "text/latex": [
       "$\\displaystyle \\overrightarrow{{b}} = (0.0 ; 8.325192 ; 0.0)$"
      ],
      "text/plain": [
       "<IPython.core.display.Math object>"
      ]
     },
     "metadata": {},
     "output_type": "display_data"
    },
    {
     "data": {
      "text/latex": [
       "$\\displaystyle \\overrightarrow{{c}} = (0.0 ; 0.0 ; 8.325192)$"
      ],
      "text/plain": [
       "<IPython.core.display.Math object>"
      ]
     },
     "metadata": {},
     "output_type": "display_data"
    }
   ],
   "source": [
    "#analyse des données\n",
    "sga = SpacegroupAnalyzer(structure) #donne accès à des fontions pour faire les analyses du matériaux\n",
    "maille = sga.get_conventional_standard_structure() \n",
    "grille = maille.lattice.matrix #format matriciel pour manipuler facilement juste après\n",
    "grille = imp(grille)\n",
    "\n",
    "#vecteurs de bases\n",
    "#réseau direct:\n",
    "print(\"Vecteurs de bases du réseau direct:\")\n",
    "display(Math(r\"\\overrightarrow{{a}} = (\"+ str(grille[0][0])+ \" ; \" + str(grille[0][1])+ \" ; \" + str(grille[0][2])+ \")\"))\n",
    "display(Math(r\"\\overrightarrow{{b}} = (\"+ str(grille[1][0])+ \" ; \" + str(grille[1][1])+ \" ; \" + str(grille[1][2])+ \")\"))\n",
    "display(Math(r\"\\overrightarrow{{c}} = (\"+ str(grille[2][0])+ \" ; \" + str(grille[2][1])+ \" ; \" + str(grille[2][2])+ \")\"))\n"
   ]
  },
  {
   "cell_type": "code",
   "execution_count": 98,
   "id": "bd39ed0b",
   "metadata": {},
   "outputs": [
    {
     "name": "stdout",
     "output_type": "stream",
     "text": [
      "Vecteurs de bases du réseau réciproque:\n"
     ]
    },
    {
     "data": {
      "text/latex": [
       "$\\displaystyle \\overrightarrow{{a^*}} = (0.7547196 ; 0.0 ; 0.0)$"
      ],
      "text/plain": [
       "<IPython.core.display.Math object>"
      ]
     },
     "metadata": {},
     "output_type": "display_data"
    },
    {
     "data": {
      "text/latex": [
       "$\\displaystyle \\overrightarrow{{b^*}} = (0.0 ; 0.7547196 ; 0.0)$"
      ],
      "text/plain": [
       "<IPython.core.display.Math object>"
      ]
     },
     "metadata": {},
     "output_type": "display_data"
    },
    {
     "data": {
      "text/latex": [
       "$\\displaystyle \\overrightarrow{{c^*}} = (0.0 ; 0.0 ; 0.7547196)$"
      ],
      "text/plain": [
       "<IPython.core.display.Math object>"
      ]
     },
     "metadata": {},
     "output_type": "display_data"
    }
   ],
   "source": [
    "grille2 = maille.lattice.reciprocal_lattice.matrix\n",
    "grille2 = imp(grille2)\n",
    "\n",
    "#vecteurs de bases\n",
    "#réseau réciproque:str(grille2[0][0])\n",
    "print(\"Vecteurs de bases du réseau réciproque:\")\n",
    "display(Math(r\"\\overrightarrow{{a^*}} = (\"+ \"{:.7f}\".format(grille2[0][0]) + \" ; \" + str(grille2[0][1])+ \" ; \" + str(grille2[0][2])+ \")\"))\n",
    "display(Math(r\"\\overrightarrow{{b^*}} = (\"+ str(grille2[1][0])+ \" ; \" + \"{:.7f}\".format(grille2[1][1])+ \" ; \" + str(grille2[1][2])+ \")\"))\n",
    "display(Math(r\"\\overrightarrow{{c^*}} = (\"+ str(grille2[2][0])+ \" ; \" + str(grille2[2][1])+ \" ; \" + \"{:.7f}\".format(grille2[2][2])+ \")\"))\n"
   ]
  },
  {
   "cell_type": "code",
   "execution_count": 99,
   "id": "2040ea9c",
   "metadata": {},
   "outputs": [
    {
     "name": "stdout",
     "output_type": "stream",
     "text": [
      "Système cristallin : cubic\n",
      "Type de maille : Faces centrées\n",
      "Groupe ponctuel : m-3m\n"
     ]
    }
   ],
   "source": [
    "#système cristallin\n",
    "print(\"Système cristallin : \" + sga.get_lattice_type())\n",
    "\n",
    "#type de maille\n",
    "grEspace = sga.get_space_group_symbol() #fourni le groupe d'espace de la structure\n",
    "typMaille = typemaille(grEspace[0]) #le groupe d'espace commence par une lettre indiquant le type de maille\n",
    "print(\"Type de maille : \" + typMaille)\n",
    "\n",
    "#groupe ponctuel\n",
    "grPt = sga.get_point_group_symbol() #fourni le groupe ponctuel de la structure\n",
    "print(\"Groupe ponctuel : \" + grPt)"
   ]
  },
  {
   "cell_type": "code",
   "execution_count": null,
   "id": "c25e840e",
   "metadata": {},
   "outputs": [],
   "source": []
  },
  {
   "cell_type": "code",
   "execution_count": null,
   "id": "ee35e533",
   "metadata": {},
   "outputs": [],
   "source": []
  },
  {
   "cell_type": "code",
   "execution_count": null,
   "id": "c80c1e8d",
   "metadata": {},
   "outputs": [],
   "source": []
  }
 ],
 "metadata": {
  "kernelspec": {
   "display_name": "Python 3",
   "language": "python",
   "name": "python3"
  },
  "language_info": {
   "codemirror_mode": {
    "name": "ipython",
    "version": 3
   },
   "file_extension": ".py",
   "mimetype": "text/x-python",
   "name": "python",
   "nbconvert_exporter": "python",
   "pygments_lexer": "ipython3",
   "version": "3.6.8"
  }
 },
 "nbformat": 4,
 "nbformat_minor": 5
}
