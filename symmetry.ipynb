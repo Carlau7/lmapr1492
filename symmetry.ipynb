{
 "cells": [
  {
   "cell_type": "code",
   "execution_count": 1,
   "id": "6ae78245",
   "metadata": {},
   "outputs": [],
   "source": [
    "from pymatgen import Structure\n",
    "from pymatgen.symmetry.analyzer import SpacegroupAnalyzer\n",
    "from jupyter_jsmol.pymatgen import quick_view\n",
    "from pymatgen.io.vasp import Poscar\n",
    "from pymatgen.io.cif import CifWriter\n",
    "from pymatgen.ext.matproj import MPRester\n",
    "from IPython.display import display, Math \n",
    "import numpy as np"
   ]
  },
  {
   "cell_type": "code",
   "execution_count": 2,
   "id": "591904ba",
   "metadata": {},
   "outputs": [],
   "source": [
    "# téléchargement du matériau\n",
    "\n",
    "with MPRester(\"1dFKRUfD65SqW4BO\") as m: \n",
    "    # Structure for material id\n",
    "    structure = m.get_structure_by_material_id(\"mp-862631\")\n",
    "w = CifWriter(structure,symprec=0.1)\n",
    "w.write_file('mp-862631.cif')"
   ]
  },
  {
   "cell_type": "code",
   "execution_count": 3,
   "id": "a6a798fc",
   "metadata": {},
   "outputs": [],
   "source": [
    "# prendre la maille conventionnelle\n",
    "sga = SpacegroupAnalyzer(structure)\n",
    "struct = sga.get_conventional_standard_structure()"
   ]
  },
  {
   "cell_type": "code",
   "execution_count": 53,
   "id": "0e18cb3a",
   "metadata": {},
   "outputs": [
    {
     "data": {
      "application/vnd.jupyter.widget-view+json": {
       "model_id": "216518fba36a4bbf874f6bb45c8d8b92",
       "version_major": 2,
       "version_minor": 0
      },
      "text/plain": [
       "JsmolView(layout=Layout(align_self='stretch', height='400px'))"
      ]
     },
     "metadata": {},
     "output_type": "display_data"
    },
    {
     "name": "stdout",
     "output_type": "stream",
     "text": [
      "Ici est mis en évidence un axe de rotation d'ordre 4.\n",
      "Il s'applique sur l'atome d'Antimoine situé en (1/2,1/2,0) qui se retrouve ainsi aux positions (-1/2,1/2,0), (-1/2,-1/2,0) et (1/2,-1/2,0), avant de revenir à sa position initiale.\n",
      "\n",
      "En notation de Seitz, cette opération de symétrie s'écrit: {4[001]|000}.\n"
     ]
    }
   ],
   "source": [
    "# affichage\n",
    "view = quick_view(struct)\n",
    "display(view)\n",
    "# rotation d'ordre 4\n",
    "view.script('draw SYMOP 4 {1/2,1/2,0}') \n",
    "\n",
    "print(\"Ici est mis en évidence un axe de rotation d'ordre 4.\")\n",
    "print(\"Il s'applique sur l'atome d'Antimoine situé en (1/2,1/2,0) qui se retrouve ainsi aux positions (-1/2,1/2,0), (-1/2,-1/2,0) et (1/2,-1/2,0), avant de revenir à sa position initiale.\")\n",
    "print(\"\\n\"+ \"En notation de Seitz, cette opération de symétrie s'écrit: {4[001]|000}.\")"
   ]
  },
  {
   "cell_type": "code",
   "execution_count": 54,
   "id": "98ab5803",
   "metadata": {},
   "outputs": [
    {
     "data": {
      "application/vnd.jupyter.widget-view+json": {
       "model_id": "60e976f736b24692be2b3eddc721a174",
       "version_major": 2,
       "version_minor": 0
      },
      "text/plain": [
       "JsmolView(layout=Layout(align_self='stretch', height='400px'))"
      ]
     },
     "metadata": {},
     "output_type": "display_data"
    },
    {
     "name": "stdout",
     "output_type": "stream",
     "text": [
      "Ici est mis en évidence un plan de réflexion (un miroir).\n",
      "Il s'applique sur l'atome de Barium situé en (1/4,3/4,3/4), menant à son image en (3/4,1/4,3/4).\n",
      "\n",
      "De manière plus générale, cette symétrie agit sur un point (x,y,z) et renvoie son image en (y,x,z).\n",
      "En notation de Seitz, cette opération de symétrie s'écrit:\n"
     ]
    },
    {
     "data": {
      "text/latex": [
       "$\\displaystyle \\{m[1\\bar{1}0]|000\\}$"
      ],
      "text/plain": [
       "<IPython.core.display.Math object>"
      ]
     },
     "metadata": {},
     "output_type": "display_data"
    }
   ],
   "source": [
    "#nouvel affichage\n",
    "view2 = quick_view(struct)\n",
    "display(view2)\n",
    "#miroir\n",
    "view2.script('draw SYMOP \"y,x,z\" {atomno=10}') \n",
    "\n",
    "print(\"Ici est mis en évidence un plan de réflexion (un miroir).\")\n",
    "print(\"Il s'applique sur l'atome de Barium situé en (1/4,3/4,3/4), menant à son image en (3/4,1/4,3/4).\\n\")\n",
    "print(\"De manière plus générale, cette symétrie agit sur un point (x,y,z) et renvoie son image en (y,x,z).\")\n",
    "print(\"En notation de Seitz, cette opération de symétrie s'écrit:\")\n",
    "display(Math(\"\\{m[1\\\\bar{1}0]|000\\}\"))"
   ]
  },
  {
   "cell_type": "code",
   "execution_count": 5,
   "id": "92712f78",
   "metadata": {},
   "outputs": [
    {
     "data": {
      "application/vnd.jupyter.widget-view+json": {
       "model_id": "1c0612d918e1418696b57b23cd7e06e2",
       "version_major": 2,
       "version_minor": 0
      },
      "text/plain": [
       "JsmolView(layout=Layout(align_self='stretch', height='400px'))"
      ]
     },
     "metadata": {},
     "output_type": "display_data"
    },
    {
     "name": "stdout",
     "output_type": "stream",
     "text": [
      "Ici est mis en évidence un plan de glissement.\n",
      "Il s'applique sur l'atome d'Or situé en (0,1/2,0), menant à son image en (1/2,1/2,1/2).\n",
      "\n",
      "De manière plus générale, cette symétrie agit sur un point (x,y,z) et amène au point (1/2-x,y,z+1/2).\n",
      "Se remarque donc bien l'association d'un plan miroir m[100] et d'une translation verticale parallèle à ce plan de 1/2.\n",
      "\n",
      "Cependant, le plan de symétrie est positionné,non pas à l'origine, mais à 1/4 du vecteur a, perpendiculairement à celui-ci.\n",
      "Ceci implique une partie extrinsèque à la translation dans la notation de Seitz pour cette symétrie et donne donc:\n"
     ]
    },
    {
     "data": {
      "text/latex": [
       "$\\displaystyle \\{m[100]|\\frac{1}{2}0\\frac{1}{2}\\}$"
      ],
      "text/plain": [
       "<IPython.core.display.Math object>"
      ]
     },
     "metadata": {},
     "output_type": "display_data"
    }
   ],
   "source": [
    "#nouvel affichage \n",
    "view3 = quick_view(struct)\n",
    "display(view3)\n",
    "#plan de glissement\n",
    "view3.script('draw SYMOP \"-x+1/2,y,z+1/2\"{atomno=25}') \n",
    "\n",
    "print(\"Ici est mis en évidence un plan de glissement.\")\n",
    "print(\"Il s'applique sur l'atome d'Or situé en (0,1/2,0), menant à son image en (1/2,1/2,1/2).\\n\")\n",
    "print(\"De manière plus générale, cette symétrie agit sur un point (x,y,z) et amène au point (1/2-x,y,z+1/2).\")\n",
    "print(\"Se remarque donc bien l'association d'un plan miroir m[100] et d'une translation verticale parallèle à ce plan de 1/2.\\n\")\n",
    "print(\"Cependant, le plan de symétrie est positionné,non pas à l'origine, mais à 1/4 du vecteur a, perpendiculairement à celui-ci.\")\n",
    "print(\"Ceci implique une partie extrinsèque à la translation dans la notation de Seitz pour cette symétrie et donne donc:\")\n",
    "display(Math(\"\\{m[100]|\\\\frac{1}{2}0\\\\frac{1}{2}\\}\"))"
   ]
  },
  {
   "cell_type": "code",
   "execution_count": null,
   "id": "52ce6089",
   "metadata": {},
   "outputs": [],
   "source": []
  }
 ],
 "metadata": {
  "kernelspec": {
   "display_name": "Python 3",
   "language": "python",
   "name": "python3"
  },
  "language_info": {
   "codemirror_mode": {
    "name": "ipython",
    "version": 3
   },
   "file_extension": ".py",
   "mimetype": "text/x-python",
   "name": "python",
   "nbconvert_exporter": "python",
   "pygments_lexer": "ipython3",
   "version": "3.6.8"
  }
 },
 "nbformat": 4,
 "nbformat_minor": 5
}
